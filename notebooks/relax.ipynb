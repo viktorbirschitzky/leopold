{
 "cells": [
  {
   "cell_type": "code",
   "execution_count": null,
   "metadata": {},
   "outputs": [],
   "source": [
    "import pickle\n",
    "import os\n",
    "import sys\n",
    "import numpy as np\n",
    "import matplotlib.pyplot as plt\n",
    "from copy import copy\n",
    "\n",
    "# Jax\n",
    "import jax.numpy as jnp\n",
    "from jax import jit, vmap\n",
    "import jax\n",
    "from jax.nn import softmax\n",
    "from jax_md import space\n",
    "\n",
    "jax.config.update(\"jax_enable_x64\", True)\n",
    "\n",
    "# ASE\n",
    "from ase.io import write\n",
    "from ase.optimize import BFGS,FIRE\n",
    "from ase.calculators.calculator import Calculator, all_changes\n",
    "\n",
    "# Utils\n",
    "from utils import get_atoms_from_data, get_data_from_atoms, get_data_from_xyz, batch_data\n",
    "from utils import get_model\n",
    "from utils import LeopoldCalculator\n",
    "from utils import AtomsData\n",
    "\n",
    "# Types\n",
    "from argparse import ArgumentParser, Namespace\n"
   ]
  },
  {
   "cell_type": "markdown",
   "metadata": {},
   "source": [
    "# Pristine structure\n",
    "First we relax any training structure without any polarons to generate a pristine structure:"
   ]
  },
  {
   "cell_type": "code",
   "execution_count": null,
   "metadata": {},
   "outputs": [],
   "source": [
    "# load any structure from training data set and load calculator\n",
    "data = get_data_from_xyz(\"../data/F-doped_TiO2/train.xyz\")\n",
    "image = get_atoms_from_data(data)[0]\n",
    "calc = LeopoldCalculator(\"../models/TiO2+F.pkl\", \n",
    "                         \"../data/F-doped_TiO2/train.xyz\")\n",
    "\n",
    "# Remove polaron\n",
    "image.arrays['pol_state'] = image.arrays['pol_state'].at[:].set(0)\n",
    "\n",
    "# Set calculators:\n",
    "image.calc = copy(calc)\n",
    "\n",
    "# Run relaxation\n",
    "dyn = FIRE(image)\n",
    "dyn.run(fmax=0.001)"
   ]
  },
  {
   "cell_type": "code",
   "execution_count": null,
   "metadata": {},
   "outputs": [],
   "source": [
    "# define distance calculation function\n",
    "displacement, shift = space.periodic_general(np.diag(image.get_cell()))\n",
    "distances = vmap(displacement, (None,0))\n",
    "\n",
    "# loop over all Ti atoms in cell and break local symmetry for polaron localization\n",
    "images = []\n",
    "for i in range(96):\n",
    "    # Get 6 nearest neighbors and find calculate displacement vectors for each\n",
    "    dist = distances(image.get_scaled_positions()[i], image.get_scaled_positions())\n",
    "    idxs = np.argsort(np.linalg.norm(dist, axis=-1))[1:7]\n",
    "    shifts = dist[idxs]*0.05\n",
    "\n",
    "    # Create distorted image\n",
    "    image_distorted = image.copy()\n",
    "    image_distorted.arrays['positions'][idxs] -= shifts\n",
    "    image_distorted.wrap()\n",
    "    image_distorted.arrays['pol_state'] = image_distorted.arrays['pol_state'].at[:].set(0).at[i].set(1)\n",
    "\n",
    "    # Set calculators:\n",
    "    image_distorted.calc = copy(calc)\n",
    "\n",
    "    # Run Relaxation and store for further processing\n",
    "    dyn = BFGS(image_distorted)\n",
    "    dyn.run(fmax=0.001)\n",
    "\n",
    "    images.append(image_distorted.copy())"
   ]
  }
 ],
 "metadata": {
  "language_info": {
   "name": "python"
  }
 },
 "nbformat": 4,
 "nbformat_minor": 2
}
